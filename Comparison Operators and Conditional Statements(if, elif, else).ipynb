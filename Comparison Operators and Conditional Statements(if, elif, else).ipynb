{
 "cells": [
  {
   "cell_type": "code",
   "execution_count": 40,
   "id": "0f9f88c1",
   "metadata": {},
   "outputs": [
    {
     "name": "stdout",
     "output_type": "stream",
     "text": [
      "False\n"
     ]
    }
   ],
   "source": [
    "print(27 == \"27\")                                           # Comparion Operators always return True or False                   "
   ]
  },
  {
   "cell_type": "code",
   "execution_count": 33,
   "id": "2a45fbb0",
   "metadata": {},
   "outputs": [
    {
     "name": "stdout",
     "output_type": "stream",
     "text": [
      "True\n"
     ]
    }
   ],
   "source": [
    "present_person = 27                                         # Comparion Operators compare two values(their cases if they are \n",
    "number_of_foodbags = \"27\"                                   # string) and their Data Type values for (==, !=) Operators\n",
    "print(27 != number_of_foodbags)                             # On L.H.S 27 is number, on R.H.S 27 is string so result is False "
   ]
  },
  {
   "cell_type": "code",
   "execution_count": 28,
   "id": "c5b122e7",
   "metadata": {},
   "outputs": [
    {
     "name": "stdout",
     "output_type": "stream",
     "text": [
      "False\n"
     ]
    }
   ],
   "source": [
    "unemployed_graduates = 1478                                  # Like Math Expressions and concatenation, comparison Operations \n",
    "available_jobs = 1546                                        # can also be performed in print statement and on R.H.S of  \n",
    "unemployment_status = unemployed_graduates >= available_jobs # assignment operator\n",
    "print(unemployment_status)"
   ]
  },
  {
   "cell_type": "code",
   "execution_count": 35,
   "id": "12ca7fb4",
   "metadata": {},
   "outputs": [
    {
     "name": "stdout",
     "output_type": "stream",
     "text": [
      "True\n"
     ]
    }
   ],
   "source": [
    "greetings = \"Hello,\"\n",
    "addressee = \"World!\"\n",
    "greetings_accepted = \"Hello, World!\" == (greetings + \" \" + addressee)\n",
    "print(greetings_accepted)"
   ]
  },
  {
   "cell_type": "code",
   "execution_count": 37,
   "id": "4cbe0578",
   "metadata": {},
   "outputs": [
    {
     "name": "stdout",
     "output_type": "stream",
     "text": [
      "True\n"
     ]
    }
   ],
   "source": [
    "selling_price = 38                                           # Math Expressions and Concatenation can also be put on  \n",
    "purchasing_price = 20                                        # either side of Comparison Operator to get solved\n",
    "transport_expense = 7\n",
    "storage_expense = 3\n",
    "labour_expense = 5\n",
    "profit = selling_price > (purchasing_price + 7 + 3 + labour_expense)\n",
    "print(profit)"
   ]
  },
  {
   "cell_type": "code",
   "execution_count": 38,
   "id": "91e72486",
   "metadata": {},
   "outputs": [
    {
     "ename": "TypeError",
     "evalue": "'>' not supported between instances of 'int' and 'str'",
     "output_type": "error",
     "traceback": [
      "\u001b[1;31m---------------------------------------------------------------------------\u001b[0m",
      "\u001b[1;31mTypeError\u001b[0m                                 Traceback (most recent call last)",
      "\u001b[1;32m<ipython-input-38-7d6c4c250ce6>\u001b[0m in \u001b[0;36m<module>\u001b[1;34m\u001b[0m\n\u001b[0;32m      4\u001b[0m \u001b[0mstorage_expense\u001b[0m \u001b[1;33m=\u001b[0m \u001b[1;36m3\u001b[0m\u001b[1;33m\u001b[0m\u001b[1;33m\u001b[0m\u001b[0m\n\u001b[0;32m      5\u001b[0m \u001b[0mlabour_expense\u001b[0m \u001b[1;33m=\u001b[0m \u001b[1;36m5\u001b[0m\u001b[1;33m\u001b[0m\u001b[1;33m\u001b[0m\u001b[0m\n\u001b[1;32m----> 6\u001b[1;33m \u001b[0mprofit\u001b[0m \u001b[1;33m=\u001b[0m \u001b[0mselling_price\u001b[0m \u001b[1;33m>\u001b[0m \u001b[1;33m(\u001b[0m\u001b[1;34m\"20\"\u001b[0m \u001b[1;33m+\u001b[0m \u001b[1;34m\"7\"\u001b[0m \u001b[1;33m+\u001b[0m \u001b[1;34m\"3\"\u001b[0m \u001b[1;33m+\u001b[0m \u001b[1;34m\"5\"\u001b[0m\u001b[1;33m)\u001b[0m\u001b[1;33m\u001b[0m\u001b[1;33m\u001b[0m\u001b[0m\n\u001b[0m\u001b[0;32m      7\u001b[0m \u001b[0mprint\u001b[0m\u001b[1;33m(\u001b[0m\u001b[0mprofit\u001b[0m\u001b[1;33m)\u001b[0m\u001b[1;33m\u001b[0m\u001b[1;33m\u001b[0m\u001b[0m\n",
      "\u001b[1;31mTypeError\u001b[0m: '>' not supported between instances of 'int' and 'str'"
     ]
    }
   ],
   "source": [
    "selling_price = 38                                           # Using equality operator(==) and unequality operator(!=),  \n",
    "purchasing_price = 20                                        # one can dare to compare a number and a string        \n",
    "transport_expense = 7                                        \n",
    "storage_expense = 3                                          # But for other Comparison Operators(>, >=, <, <=) comparison of \n",
    "labour_expense = 5                                           # values with different datatypes is not allowed\n",
    "profit = selling_price > (\"20\" + \"7\" + \"3\" + \"5\")\n",
    "print(profit)"
   ]
  },
  {
   "cell_type": "code",
   "execution_count": 48,
   "id": "9c2b1d97",
   "metadata": {},
   "outputs": [
    {
     "name": "stdout",
     "output_type": "stream",
     "text": [
      "True\n"
     ]
    }
   ],
   "source": [
    "first_string = \"azya\"                                       # when strings are compared using (>,>=,<,<=) Operartors\n",
    "second_string = \"b\"                                         # they actually compare same positioned charcters with precedence \n",
    "print(second_string > first_string)                         # decreasing from (z,y to b,a) or from (Z,Y to B,A)"
   ]
  },
  {
   "cell_type": "code",
   "execution_count": null,
   "id": "66811840",
   "metadata": {},
   "outputs": [],
   "source": []
  },
  {
   "cell_type": "code",
   "execution_count": null,
   "id": "568e5b7a",
   "metadata": {},
   "outputs": [],
   "source": []
  },
  {
   "cell_type": "code",
   "execution_count": 125,
   "id": "fc11fdb5",
   "metadata": {},
   "outputs": [
    {
     "name": "stdout",
     "output_type": "stream",
     "text": [
      "if statement is true\n"
     ]
    }
   ],
   "source": [
    "if True:                                                  # if statement can talkes any number(positive or negative) that \n",
    "    print(\"if statement is true\")                         # does not start with 0, can take floating value(positive or negative)\n",
    "                                                          # except 0.0, a valid string or True keyword in it\n",
    "                                                          # it may also contain 0, 0.0, empty string or False keyword"
   ]
  },
  {
   "cell_type": "code",
   "execution_count": 108,
   "id": "15b8adaf",
   "metadata": {},
   "outputs": [],
   "source": [
    "if False:\n",
    "    print(\"if statement is false\")"
   ]
  },
  {
   "cell_type": "code",
   "execution_count": 126,
   "id": "446f34f5",
   "metadata": {},
   "outputs": [
    {
     "name": "stdout",
     "output_type": "stream",
     "text": [
      "status variable has the True value or number or float value or a valid string \n"
     ]
    }
   ],
   "source": [
    "status = True                                            # keyword or value can be in variable\n",
    "if status:\n",
    "    print(\"status variable has the True value or number or float value or a valid string \")"
   ]
  },
  {
   "cell_type": "code",
   "execution_count": 127,
   "id": "044bb78f",
   "metadata": {},
   "outputs": [],
   "source": [
    "status = 0.0\n",
    "if status:\n",
    "    print(\"0.0 in if statement does not allow then part to execute\")"
   ]
  },
  {
   "cell_type": "code",
   "execution_count": 124,
   "id": "d96b1348",
   "metadata": {},
   "outputs": [
    {
     "name": "stdout",
     "output_type": "stream",
     "text": [
      "all numbers except 0 allow then part to execute\n"
     ]
    }
   ],
   "source": [
    "status = 234\n",
    "if status:\n",
    "    print(\"all numbers except 0 allow then part to execute\")"
   ]
  },
  {
   "cell_type": "code",
   "execution_count": 99,
   "id": "2de97f87",
   "metadata": {},
   "outputs": [
    {
     "name": "stdout",
     "output_type": "stream",
     "text": [
      "all numbers except 0 are true\n"
     ]
    }
   ],
   "source": [
    "if -987:\n",
    "    print(\"all numbers except 0 allow then part to execute\")"
   ]
  },
  {
   "cell_type": "code",
   "execution_count": 116,
   "id": "245393e4",
   "metadata": {},
   "outputs": [
    {
     "name": "stdout",
     "output_type": "stream",
     "text": [
      "all floating values allow then part to execute\n"
     ]
    }
   ],
   "source": [
    "if -09.7:\n",
    "    print(\"all floating values allow then part to execute\")"
   ]
  },
  {
   "cell_type": "code",
   "execution_count": 117,
   "id": "fa57c252",
   "metadata": {},
   "outputs": [
    {
     "ename": "SyntaxError",
     "evalue": "leading zeros in decimal integer literals are not permitted; use an 0o prefix for octal integers (<ipython-input-117-5a93ed73898b>, line 1)",
     "output_type": "error",
     "traceback": [
      "\u001b[1;36m  File \u001b[1;32m\"<ipython-input-117-5a93ed73898b>\"\u001b[1;36m, line \u001b[1;32m1\u001b[0m\n\u001b[1;33m    if -097:\u001b[0m\n\u001b[1;37m          ^\u001b[0m\n\u001b[1;31mSyntaxError\u001b[0m\u001b[1;31m:\u001b[0m leading zeros in decimal integer literals are not permitted; use an 0o prefix for octal integers\n"
     ]
    }
   ],
   "source": [
    "if -097:\n",
    "    print(\"Numbers staring with 0 gives error\")"
   ]
  },
  {
   "cell_type": "code",
   "execution_count": 128,
   "id": "c8a924f6",
   "metadata": {},
   "outputs": [
    {
     "name": "stdout",
     "output_type": "stream",
     "text": [
      "Valid String allows then part to execute\n"
     ]
    }
   ],
   "source": [
    "if \"False\":                                                        \n",
    "    print(\"Valid String allows then part to execute\")"
   ]
  },
  {
   "cell_type": "code",
   "execution_count": 131,
   "id": "490c5c14",
   "metadata": {},
   "outputs": [
    {
     "name": "stdout",
     "output_type": "stream",
     "text": [
      "Valid String allows then part to execute\n"
     ]
    }
   ],
   "source": [
    "if \" \":                                                        \n",
    "    print(\"Valid String allows then part to execute\")"
   ]
  },
  {
   "cell_type": "code",
   "execution_count": 132,
   "id": "3ce67fd0",
   "metadata": {},
   "outputs": [],
   "source": [
    "if \"\":\n",
    "    print(\"Empty String doesn't allows then part to execute\")"
   ]
  },
  {
   "cell_type": "code",
   "execution_count": null,
   "id": "1412f4d1",
   "metadata": {},
   "outputs": [],
   "source": []
  },
  {
   "cell_type": "code",
   "execution_count": null,
   "id": "09a3f3b5",
   "metadata": {},
   "outputs": [],
   "source": []
  },
  {
   "cell_type": "code",
   "execution_count": 139,
   "id": "8c9791f3",
   "metadata": {},
   "outputs": [
    {
     "name": "stdout",
     "output_type": "stream",
     "text": [
      "its working\n"
     ]
    }
   ],
   "source": [
    "if (1<3 and \" \"):\n",
    "    print(\"its working\")"
   ]
  },
  {
   "cell_type": "code",
   "execution_count": null,
   "id": "def95db1",
   "metadata": {},
   "outputs": [],
   "source": []
  },
  {
   "cell_type": "code",
   "execution_count": null,
   "id": "09a0c57c",
   "metadata": {},
   "outputs": [],
   "source": []
  },
  {
   "cell_type": "code",
   "execution_count": 143,
   "id": "e9114716",
   "metadata": {},
   "outputs": [],
   "source": [
    "list1 =[\"ali\", \"alia\", \"Muhammad\"]\n"
   ]
  },
  {
   "cell_type": "code",
   "execution_count": 144,
   "id": "3559abff",
   "metadata": {},
   "outputs": [
    {
     "data": {
      "text/plain": [
       "['ali', 'alia', 'Muhammad']"
      ]
     },
     "execution_count": 144,
     "metadata": {},
     "output_type": "execute_result"
    }
   ],
   "source": [
    "list1"
   ]
  },
  {
   "cell_type": "code",
   "execution_count": 145,
   "id": "113de332",
   "metadata": {},
   "outputs": [
    {
     "name": "stdout",
     "output_type": "stream",
     "text": [
      "['ali', 'alia', 'Muhammad']\n"
     ]
    }
   ],
   "source": [
    "print(list1)"
   ]
  },
  {
   "cell_type": "code",
   "execution_count": 146,
   "id": "d93b58ca",
   "metadata": {},
   "outputs": [
    {
     "name": "stdout",
     "output_type": "stream",
     "text": [
      "[2, 'fan', True, 34]\n"
     ]
    }
   ],
   "source": [
    "list2 = [2, \"fan\", True, 34]\n",
    "print(list2)"
   ]
  },
  {
   "cell_type": "code",
   "execution_count": 148,
   "id": "d215b959",
   "metadata": {},
   "outputs": [
    {
     "name": "stdout",
     "output_type": "stream",
     "text": [
      "[45, 'fan', True, 34]\n"
     ]
    }
   ],
   "source": [
    "name = 34\n",
    "list3 = [45, \"fan\", True, name]\n",
    "print(list3)"
   ]
  },
  {
   "cell_type": "code",
   "execution_count": 149,
   "id": "f731793f",
   "metadata": {},
   "outputs": [
    {
     "name": "stdout",
     "output_type": "stream",
     "text": [
      "34\n"
     ]
    }
   ],
   "source": [
    "print(list3[3])"
   ]
  },
  {
   "cell_type": "code",
   "execution_count": null,
   "id": "9ce36875",
   "metadata": {},
   "outputs": [],
   "source": []
  },
  {
   "cell_type": "code",
   "execution_count": null,
   "id": "d4ba81c8",
   "metadata": {},
   "outputs": [],
   "source": []
  },
  {
   "cell_type": "code",
   "execution_count": 150,
   "id": "c97d5791",
   "metadata": {},
   "outputs": [
    {
     "name": "stdout",
     "output_type": "stream",
     "text": [
      "['ali', 'alia', 'Muhammad', 2, 'fan', True, 34]\n"
     ]
    }
   ],
   "source": [
    "newlist = list1 + list2\n",
    "print(newlist)"
   ]
  },
  {
   "cell_type": "code",
   "execution_count": 153,
   "id": "180489ca",
   "metadata": {},
   "outputs": [
    {
     "name": "stdout",
     "output_type": "stream",
     "text": [
      "['ali', 'alia', 'Muhammad', 'Hassan', 'Hussain']\n"
     ]
    }
   ],
   "source": [
    "newlist = list1 + [\"Hassan\", \"Hussain\"]\n",
    "print(newlist)"
   ]
  },
  {
   "cell_type": "code",
   "execution_count": 152,
   "id": "6688f3cd",
   "metadata": {},
   "outputs": [
    {
     "name": "stdout",
     "output_type": "stream",
     "text": [
      "['ali', 'alia', 'Muhammad', 'Hassan', 'Hussain', 'Hassan', 'Hussain']\n"
     ]
    }
   ],
   "source": [
    "newlist += [\"Hassan\", \"Hussain\"]\n",
    "print(newlist)"
   ]
  },
  {
   "cell_type": "code",
   "execution_count": 154,
   "id": "243c90c6",
   "metadata": {},
   "outputs": [
    {
     "name": "stdout",
     "output_type": "stream",
     "text": [
      "[]\n"
     ]
    }
   ],
   "source": [
    "list4 = []\n",
    "print(list4)"
   ]
  },
  {
   "cell_type": "code",
   "execution_count": null,
   "id": "e010b60a",
   "metadata": {},
   "outputs": [],
   "source": []
  }
 ],
 "metadata": {
  "kernelspec": {
   "display_name": "Python 3",
   "language": "python",
   "name": "python3"
  },
  "language_info": {
   "codemirror_mode": {
    "name": "ipython",
    "version": 3
   },
   "file_extension": ".py",
   "mimetype": "text/x-python",
   "name": "python",
   "nbconvert_exporter": "python",
   "pygments_lexer": "ipython3",
   "version": "3.8.8"
  }
 },
 "nbformat": 4,
 "nbformat_minor": 5
}

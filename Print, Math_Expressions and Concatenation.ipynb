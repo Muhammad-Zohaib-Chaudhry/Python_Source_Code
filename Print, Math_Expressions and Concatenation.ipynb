{
 "cells": [
  {
   "cell_type": "code",
   "execution_count": 28,
   "id": "51f6c4f6",
   "metadata": {},
   "outputs": [
    {
     "name": "stdout",
     "output_type": "stream",
     "text": [
      "Hello, World!\n"
     ]
    }
   ],
   "source": [
    "print(\"Hello, World!\")                               # Text String(string of characters) must be written with in quotation marks"
   ]
  },
  {
   "cell_type": "code",
   "execution_count": 29,
   "id": "6a580898",
   "metadata": {},
   "outputs": [
    {
     "name": "stdout",
     "output_type": "stream",
     "text": [
      "Hello, World!\n"
     ]
    }
   ],
   "source": [
    "greetings = \"Hello, World!\"                           # Alphabetic letters written with out quotation marks & following\n",
    "print(greetings)                                       # some other rules is considered as name of variable in python          "
   ]
  },
  {
   "cell_type": "code",
   "execution_count": 30,
   "id": "1005986e",
   "metadata": {},
   "outputs": [
    {
     "name": "stdout",
     "output_type": "stream",
     "text": [
      "1.7\n"
     ]
    }
   ],
   "source": [
    "initial_value = 0.7\n",
    "change = 1\n",
    "final_value = initial_value + change                 # On R.H.S of assignment operator & with in print statement, variable names\n",
    "print(final_value)                                    # are substituted by their values before compilation of program"
   ]
  },
  {
   "cell_type": "code",
   "execution_count": null,
   "id": "851ebdd2",
   "metadata": {},
   "outputs": [],
   "source": []
  },
  {
   "cell_type": "code",
   "execution_count": null,
   "id": "329ab0ef",
   "metadata": {},
   "outputs": [],
   "source": []
  },
  {
   "cell_type": "code",
   "execution_count": 34,
   "id": "540ad158",
   "metadata": {},
   "outputs": [
    {
     "name": "stdout",
     "output_type": "stream",
     "text": [
      "Area of Rectangular Field is: \n",
      "36\n"
     ]
    }
   ],
   "source": [
    "width_of_field = 3\n",
    "length_of_field = 4 * width_of_field                 # On R.H.S of assignment operator & with in print statement, \n",
    "print(\"Area of Rectangular Field is: \")              # Math Expressions are Solved first and their result is further used\n",
    "print(width_of_field * length_of_field)                                        "
   ]
  },
  {
   "cell_type": "code",
   "execution_count": 38,
   "id": "9e973ca0",
   "metadata": {},
   "outputs": [
    {
     "name": "stdout",
     "output_type": "stream",
     "text": [
      "10.0\n"
     ]
    }
   ],
   "source": [
    "dividend = 70\n",
    "divisor = 7\n",
    "print(dividend / divisor)"
   ]
  },
  {
   "cell_type": "code",
   "execution_count": 39,
   "id": "eaaf965c",
   "metadata": {},
   "outputs": [
    {
     "name": "stdout",
     "output_type": "stream",
     "text": [
      "4.0\n"
     ]
    }
   ],
   "source": [
    "father_property = 12\n",
    "no_of_sons = 3\n",
    "share_of_each_son = father_property / no_of_sons     # Result of division operator is always a float value\n",
    "print(share_of_each_son)"
   ]
  },
  {
   "cell_type": "code",
   "execution_count": null,
   "id": "59bafb3f",
   "metadata": {},
   "outputs": [],
   "source": []
  },
  {
   "cell_type": "code",
   "execution_count": null,
   "id": "46408b7b",
   "metadata": {},
   "outputs": [],
   "source": []
  },
  {
   "cell_type": "code",
   "execution_count": 9,
   "id": "272036d2",
   "metadata": {},
   "outputs": [
    {
     "name": "stdout",
     "output_type": "stream",
     "text": [
      "10.0\n"
     ]
    }
   ],
   "source": [
    "dividend = 70\n",
    "divisor = 7\n",
    "dividend = dividend / divisor\n",
    "print(dividend)"
   ]
  },
  {
   "cell_type": "code",
   "execution_count": 10,
   "id": "70ea63d1",
   "metadata": {},
   "outputs": [
    {
     "name": "stdout",
     "output_type": "stream",
     "text": [
      "10.0\n"
     ]
    }
   ],
   "source": [
    "dividend = 70\n",
    "divisor = 7\n",
    "dividend /= divisor\n",
    "print(dividend)"
   ]
  },
  {
   "cell_type": "code",
   "execution_count": 14,
   "id": "bbae93f6",
   "metadata": {},
   "outputs": [
    {
     "name": "stdout",
     "output_type": "stream",
     "text": [
      "10.0\n"
     ]
    }
   ],
   "source": [
    "dividend = 70\n",
    "divisor = 7\n",
    "print(dividend / divisor)"
   ]
  },
  {
   "cell_type": "code",
   "execution_count": 15,
   "id": "0a5519ff",
   "metadata": {},
   "outputs": [
    {
     "ename": "SyntaxError",
     "evalue": "invalid syntax (<ipython-input-15-81e5d7317c6d>, line 3)",
     "output_type": "error",
     "traceback": [
      "\u001b[1;36m  File \u001b[1;32m\"<ipython-input-15-81e5d7317c6d>\"\u001b[1;36m, line \u001b[1;32m3\u001b[0m\n\u001b[1;33m    print(dividend /= divisor)\u001b[0m\n\u001b[1;37m                   ^\u001b[0m\n\u001b[1;31mSyntaxError\u001b[0m\u001b[1;31m:\u001b[0m invalid syntax\n"
     ]
    }
   ],
   "source": [
    "dividend = 70\n",
    "divisor = 7\n",
    "print(dividend /= divisor)"
   ]
  },
  {
   "cell_type": "code",
   "execution_count": null,
   "id": "eedfcc5f",
   "metadata": {},
   "outputs": [],
   "source": []
  },
  {
   "cell_type": "code",
   "execution_count": null,
   "id": "e7f67c8e",
   "metadata": {},
   "outputs": [],
   "source": []
  },
  {
   "cell_type": "code",
   "execution_count": 40,
   "id": "f6392980",
   "metadata": {},
   "outputs": [
    {
     "name": "stdout",
     "output_type": "stream",
     "text": [
      "33\n"
     ]
    }
   ],
   "source": [
    "math_expression_result = 2 * 4 * 4 + 1\n",
    "print(math_expression_result)"
   ]
  },
  {
   "cell_type": "code",
   "execution_count": 41,
   "id": "d4a45d3d",
   "metadata": {},
   "outputs": [
    {
     "name": "stdout",
     "output_type": "stream",
     "text": [
      "33\n"
     ]
    }
   ],
   "source": [
    "math_expression_result = ((2 * 4) * 4) + 1       # Math Expressions definitely follow precedence rules for operators but \n",
    "print(math_expression_result)                    # parantheses are put conventionly for programmers own understanding"
   ]
  },
  {
   "cell_type": "code",
   "execution_count": 43,
   "id": "978a8574",
   "metadata": {},
   "outputs": [
    {
     "name": "stdout",
     "output_type": "stream",
     "text": [
      "40\n"
     ]
    }
   ],
   "source": [
    "math_expression_result = 2 * (4 * (4 + 1))       # Parentheses having the highest precedence are solved first\n",
    "print(math_expression_result)                    # They are put some times to get required results"
   ]
  },
  {
   "cell_type": "code",
   "execution_count": null,
   "id": "51eb2218",
   "metadata": {},
   "outputs": [],
   "source": []
  },
  {
   "cell_type": "code",
   "execution_count": null,
   "id": "280d500a",
   "metadata": {},
   "outputs": [],
   "source": []
  },
  {
   "cell_type": "code",
   "execution_count": 48,
   "id": "db3daee2",
   "metadata": {},
   "outputs": [
    {
     "ename": "TypeError",
     "evalue": "can't multiply sequence by non-int of type 'float'",
     "output_type": "error",
     "traceback": [
      "\u001b[1;31m---------------------------------------------------------------------------\u001b[0m",
      "\u001b[1;31mTypeError\u001b[0m                                 Traceback (most recent call last)",
      "\u001b[1;32m<ipython-input-48-a57eca97984e>\u001b[0m in \u001b[0;36m<module>\u001b[1;34m\u001b[0m\n\u001b[0;32m      1\u001b[0m \u001b[0mfactory_income\u001b[0m \u001b[1;33m=\u001b[0m \u001b[1;34m\"50000\"\u001b[0m\u001b[1;33m\u001b[0m\u001b[1;33m\u001b[0m\u001b[0m\n\u001b[1;32m----> 2\u001b[1;33m \u001b[0mmanager_salary\u001b[0m \u001b[1;33m=\u001b[0m \u001b[1;33m(\u001b[0m\u001b[1;36m2\u001b[0m \u001b[1;33m/\u001b[0m \u001b[1;36m100\u001b[0m\u001b[1;33m)\u001b[0m \u001b[1;33m*\u001b[0m \u001b[0mfactory_income\u001b[0m\u001b[1;33m\u001b[0m\u001b[1;33m\u001b[0m\u001b[0m\n\u001b[0m\u001b[0;32m      3\u001b[0m \u001b[0mprint\u001b[0m\u001b[1;33m(\u001b[0m\u001b[0mmanager_salary\u001b[0m\u001b[1;33m)\u001b[0m\u001b[1;33m\u001b[0m\u001b[1;33m\u001b[0m\u001b[0m\n",
      "\u001b[1;31mTypeError\u001b[0m: can't multiply sequence by non-int of type 'float'"
     ]
    }
   ],
   "source": [
    "factory_income = \"50000\"\n",
    "manager_salary = (2 / 100) * factory_income      # Arithmatic operations are only for Numbers\n",
    "print(manager_salary)"
   ]
  },
  {
   "cell_type": "code",
   "execution_count": 49,
   "id": "659b050b",
   "metadata": {},
   "outputs": [
    {
     "name": "stdout",
     "output_type": "stream",
     "text": [
      "1000.0\n"
     ]
    }
   ],
   "source": [
    "factory_income = \"50000\"\n",
    "factory_income = 50000                          # Value assigned initially or overwritten laterly decides the type of variable \n",
    "manager_salary = (2 / 100) * factory_income     # as String Variable or Number Variable\n",
    "print(manager_salary)"
   ]
  },
  {
   "cell_type": "code",
   "execution_count": null,
   "id": "f1e9663e",
   "metadata": {},
   "outputs": [],
   "source": []
  },
  {
   "cell_type": "code",
   "execution_count": null,
   "id": "f4ab6454",
   "metadata": {},
   "outputs": [],
   "source": []
  },
  {
   "cell_type": "code",
   "execution_count": 55,
   "id": "d4775b50",
   "metadata": {},
   "outputs": [
    {
     "name": "stdout",
     "output_type": "stream",
     "text": [
      "2.15\n"
     ]
    }
   ],
   "source": [
    "person_in_party = 20\n",
    "pieces_of_cake = 43\n",
    "pieces_per_person = pieces_of_cake / person_in_party  # Slash(Forward Slash) gives the quotient after division\n",
    "print(pieces_per_person)"
   ]
  },
  {
   "cell_type": "code",
   "execution_count": 56,
   "id": "1db28e78",
   "metadata": {},
   "outputs": [
    {
     "name": "stdout",
     "output_type": "stream",
     "text": [
      "3\n"
     ]
    }
   ],
   "source": [
    "person_in_party = 20\n",
    "pieces_of_cake = 43\n",
    "remaining_pieces = pieces_of_cake % person_in_party  # Modulo gives the remainder after division\n",
    "print(remaining_pieces)"
   ]
  },
  {
   "cell_type": "code",
   "execution_count": null,
   "id": "56b22d93",
   "metadata": {},
   "outputs": [],
   "source": []
  },
  {
   "cell_type": "code",
   "execution_count": null,
   "id": "9e57aa51",
   "metadata": {},
   "outputs": [],
   "source": []
  },
  {
   "cell_type": "code",
   "execution_count": 61,
   "id": "5e3ecebf",
   "metadata": {},
   "outputs": [
    {
     "name": "stdout",
     "output_type": "stream",
     "text": [
      "Hello, World!\n"
     ]
    }
   ],
   "source": [
    "greetings = \"Hello\"                                        # Although Plus is an Arithmetic Operator but when used with strings \n",
    "separator =\",\"                                             # only will concate them together\n",
    "whole_greetings = greetings + separator + \" \" + \"World!\"\n",
    "print(whole_greetings)"
   ]
  },
  {
   "cell_type": "code",
   "execution_count": 62,
   "id": "4dd3a751",
   "metadata": {},
   "outputs": [
    {
     "name": "stdout",
     "output_type": "stream",
     "text": [
      "Hello, World!\n"
     ]
    }
   ],
   "source": [
    "separator = \",\"                                           # Like Math Expressions, Concatenation can be done on right side of \n",
    "addressee = \"World\"                                       # assignment operator and with in print statement\n",
    "punctuation = \"!\"\n",
    "print(\"Hello\" + separator + \" \" + addressee + punctuation)"
   ]
  },
  {
   "cell_type": "code",
   "execution_count": 63,
   "id": "bd388a08",
   "metadata": {},
   "outputs": [
    {
     "ename": "TypeError",
     "evalue": "can only concatenate str (not \"int\") to str",
     "output_type": "error",
     "traceback": [
      "\u001b[1;31m---------------------------------------------------------------------------\u001b[0m",
      "\u001b[1;31mTypeError\u001b[0m                                 Traceback (most recent call last)",
      "\u001b[1;32m<ipython-input-63-3ab81c6e992d>\u001b[0m in \u001b[0;36m<module>\u001b[1;34m\u001b[0m\n\u001b[0;32m      1\u001b[0m \u001b[0mwidth_of_field\u001b[0m \u001b[1;33m=\u001b[0m \u001b[1;36m3\u001b[0m\u001b[1;33m\u001b[0m\u001b[1;33m\u001b[0m\u001b[0m\n\u001b[0;32m      2\u001b[0m \u001b[0mlength_of_field\u001b[0m \u001b[1;33m=\u001b[0m \u001b[1;36m4\u001b[0m \u001b[1;33m*\u001b[0m \u001b[0mwidth_of_field\u001b[0m\u001b[1;33m\u001b[0m\u001b[1;33m\u001b[0m\u001b[0m\n\u001b[1;32m----> 3\u001b[1;33m \u001b[0mprint\u001b[0m\u001b[1;33m(\u001b[0m\u001b[1;34m\"Area of Rectangular Field is: \"\u001b[0m \u001b[1;33m+\u001b[0m \u001b[1;33m(\u001b[0m\u001b[0mwidth_of_field\u001b[0m \u001b[1;33m*\u001b[0m \u001b[0mlength_of_field\u001b[0m\u001b[1;33m)\u001b[0m\u001b[1;33m)\u001b[0m\u001b[1;33m\u001b[0m\u001b[1;33m\u001b[0m\u001b[0m\n\u001b[0m",
      "\u001b[1;31mTypeError\u001b[0m: can only concatenate str (not \"int\") to str"
     ]
    }
   ],
   "source": [
    "width_of_field = 3\n",
    "length_of_field = 4 * width_of_field                  \n",
    "print(\"Area of Rectangular Field is: \" + (width_of_field * length_of_field))"
   ]
  }
 ],
 "metadata": {
  "kernelspec": {
   "display_name": "Python 3",
   "language": "python",
   "name": "python3"
  },
  "language_info": {
   "codemirror_mode": {
    "name": "ipython",
    "version": 3
   },
   "file_extension": ".py",
   "mimetype": "text/x-python",
   "name": "python",
   "nbconvert_exporter": "python",
   "pygments_lexer": "ipython3",
   "version": "3.8.8"
  }
 },
 "nbformat": 4,
 "nbformat_minor": 5
}

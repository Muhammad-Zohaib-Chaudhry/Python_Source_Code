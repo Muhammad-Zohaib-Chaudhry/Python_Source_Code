{
 "cells": [
  {
   "cell_type": "code",
   "execution_count": 15,
   "id": "1b1f4aa4",
   "metadata": {},
   "outputs": [
    {
     "name": "stdout",
     "output_type": "stream",
     "text": [
      "93.33333333333333\n",
      "Student Got Grade A+\n"
     ]
    }
   ],
   "source": [
    "eng_marks = 87\n",
    "isl_marks = 93\n",
    "maths_marks = 100\n",
    "total_marks = 300\n",
    "percentage = ((eng_marks + isl_marks + maths_marks) / total_marks) * 100\n",
    "print(percentage)\n",
    "if percentage > 100:\n",
    "    print(\"Invalid Subjects Marks\")\n",
    "elif percentage >= 90:\n",
    "    print(\"Student Got Grade A+\")\n",
    "elif percentage >= 80:\n",
    "    print(\"Student Got Grade A\")\n",
    "elif percentage >= 70:\n",
    "    print(\"Student Got Grade B\")\n",
    "elif percentage >= 60:\n",
    "    print(\"Student Got Grade C\")\n",
    "elif percentage >= 50:\n",
    "    print(\"Student Got Grade D\")\n",
    "elif percentage >= 40:\n",
    "    print(\"Student Got Grade E\")\n",
    "elif percentage >= 33:\n",
    "    print(\"Student Passed the Exam\")\n",
    "elif percentage >= 0:\n",
    "    print(\"Student Failed the Exam\")\n",
    "else:\n",
    "    print(\"Invalid Student Marks\")"
   ]
  },
  {
   "cell_type": "code",
   "execution_count": null,
   "id": "51464fb3",
   "metadata": {},
   "outputs": [],
   "source": []
  },
  {
   "cell_type": "code",
   "execution_count": null,
   "id": "45af779a",
   "metadata": {},
   "outputs": [],
   "source": []
  },
  {
   "cell_type": "code",
   "execution_count": 27,
   "id": "7771467f",
   "metadata": {},
   "outputs": [
    {
     "name": "stdout",
     "output_type": "stream",
     "text": [
      "Enter marks for English: 88\n",
      "Enter marks for Islamiat: 99\n",
      "Enter marks for Mathematics: 100\n",
      "95.66666666666667\n",
      "Student Got Grade A+\n"
     ]
    }
   ],
   "source": [
    "eng_marks = int(input(\"Enter marks for English: \"))\n",
    "isl_marks = int(input(\"Enter marks for Islamiat: \"))\n",
    "maths_marks = int(input(\"Enter marks for Mathematics: \"))\n",
    "total_marks = 300\n",
    "percentage = ((eng_marks + isl_marks + maths_marks) / total_marks) * 100\n",
    "print(percentage)\n",
    "if percentage > 100:\n",
    "    print(\"Invalid Subjects Marks\")\n",
    "elif percentage >= 90:\n",
    "    print(\"Student Got Grade A+\")\n",
    "elif percentage >= 80:\n",
    "    print(\"Student Got Grade A\")\n",
    "elif percentage >= 70:\n",
    "    print(\"Student Got Grade B\")\n",
    "elif percentage >= 60:\n",
    "    print(\"Student Got Grade C\")\n",
    "elif percentage >= 50:\n",
    "    print(\"Student Got Grade D\")\n",
    "elif percentage >= 40:\n",
    "    print(\"Student Got Grade E\")\n",
    "elif percentage >= 33:\n",
    "    print(\"Student Passed the Exam\")\n",
    "elif percentage >= 0:\n",
    "    print(\"Student Failed the Exam\")\n",
    "else:\n",
    "    print(\"Invalid Student Marks\")"
   ]
  },
  {
   "cell_type": "code",
   "execution_count": null,
   "id": "1d62eadb",
   "metadata": {},
   "outputs": [],
   "source": []
  },
  {
   "cell_type": "code",
   "execution_count": null,
   "id": "c430ec1d",
   "metadata": {},
   "outputs": [],
   "source": []
  }
 ],
 "metadata": {
  "kernelspec": {
   "display_name": "Python 3",
   "language": "python",
   "name": "python3"
  },
  "language_info": {
   "codemirror_mode": {
    "name": "ipython",
    "version": 3
   },
   "file_extension": ".py",
   "mimetype": "text/x-python",
   "name": "python",
   "nbconvert_exporter": "python",
   "pygments_lexer": "ipython3",
   "version": "3.8.8"
  }
 },
 "nbformat": 4,
 "nbformat_minor": 5
}
